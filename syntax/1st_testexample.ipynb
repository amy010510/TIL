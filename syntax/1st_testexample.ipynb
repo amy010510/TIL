{
 "cells": [
  {
   "cell_type": "markdown",
   "metadata": {},
   "source": [
    "### 객관식(4지선다) 문항\n",
    "\n",
    " **예시1 - 기본 개념을 물어보는 유형**\n",
    "  \n",
    " 다음 중, 딕셔너리에 대한 설명으로 옳지 않은 것을 고르시오.\n",
    " \n",
    "1. sequence 자료형이다.\n",
    "2. key 값을 이용해 value값을 얻을 수 있다.\n",
    " 3. key는 중복 될 수 없다.\n",
    " 4. my_dict.get('key')를 실행 했을 때, 해당하는 키가 없으면 None을 반환한다."
   ]
  },
  {
   "cell_type": "markdown",
   "metadata": {},
   "source": [
    " **예시2 - 지문 코드가 실행 되었을 때 결과를 물어보는 유형**\n",
    " \n",
    "지문의 코드를 실행했을 때, 출력되는 결과로 옳은 것을 고르시오.\n",
    " \n",
    "```python\n",
    "numbers = [[1, 2, 3], [4, 5, 6], [7, 8, 9]]\n",
    "\n",
    "for i in range(len(numbers)):\n",
    "    for j in range(len(numbers)):\n",
    "        print(numbers[j][i], end=' ')\n",
    "```\n",
    "1. 1 2 3 4 5 6 7 8 9\n",
    "2. 1 2 3 6 9 8 7 5 4\n",
    "3. 1 4 7 2 5 8 3 6 9\n",
    "4. 9 8 7 6 5 4 3 2 1"
   ]
  },
  {
   "cell_type": "code",
   "execution_count": 4,
   "metadata": {},
   "outputs": [
    {
     "name": "stdout",
     "output_type": "stream",
     "text": [
      "1 4 7 2 5 8 3 6 9 "
     ]
    }
   ],
   "source": [
    "numbers = [[1, 2, 3], [4, 5, 6], [7, 8, 9]]\n",
    "\n",
    "for i in range(len(numbers)):\n",
    "    for j in range(len(numbers)):\n",
    "        print(numbers[j][i], end=' ')"
   ]
  },
  {
   "cell_type": "markdown",
   "metadata": {},
   "source": [
    "## 단답형 문항\n",
    "**예시1 - 지문 코드가 실행 되었을 때 결과를 물어보는 유형**\n",
    "지문의 코드를 실행했을 때, 출력되는 결과를 작성하시오\n"
   ]
  },
  {
   "cell_type": "code",
   "execution_count": null,
   "metadata": {},
   "outputs": [],
   "source": [
    "class Animal:\n",
    "    def __init__(self, name):\n",
    "        self.name = name\n",
    "\n",
    "    def walk(self):\n",
    "        print('걷는다!')\n",
    "\n",
    "    def eat(self):\n",
    "        print(f'{self.name}!먹는다!')\n",
    "\n",
    "dog = Animal('dog')\n",
    "dog.walk()"
   ]
  },
  {
   "cell_type": "markdown",
   "metadata": {},
   "source": [
    " **예시2 - 지문 코드의 빈칸을 채우는 유형**\n",
    "\n",
    "지문의 코드를 실행했을 때, 리스트의 index와 요소를 모두 활용하려고 한다. 빈칸에 들어갈 코드를 작성하시오. (괄호는 작성하지 않습니다.)"
   ]
  },
  {
   "cell_type": "code",
   "execution_count": null,
   "metadata": {},
   "outputs": [],
   "source": [
    "lunch = ['짜장면', '짬뽕', '탕수육']\n",
    "\n",
    "for idx, num in __(a)__(lunch):\n",
    "    print(idx, num)\n",
    "    # 아래는 출력 예시입니다.\n",
    "    # 0 짜장면\n",
    "    # 1 짬뽕\n",
    "    # 2 탕수육"
   ]
  },
  {
   "cell_type": "markdown",
   "metadata": {},
   "source": [
    "## 서술형 문항\n",
    " **예시1 - 기본 개념에 대해 묻는 유형**\n",
    "\n",
    " 파이썬의 데이터 컨테이너는 크게 두가지 유형으로 나눌수 있는데 각각, 시퀀스(sequence)형과 비시퀀스형(Non-sequence)이라고 부른다. 이 중, 시퀀스형 데이터의 특징과 종류를 서술하시오.\n",
    "\n",
    " **예시2 - 지문의 출력 결과와 그 이유에 대해 묻는 유형**\n",
    "\n",
    "\n",
    " 지문의 코드를 실행하였을 때, 출력되는 결과와 그 이유를 서술하시오. 만약, 오류가 발생한다면, 어떤 오류가 발생하는지 왜 발생하는지도 작성하시오.\n",
    "\n"
   ]
  },
  {
   "cell_type": "code",
   "execution_count": null,
   "metadata": {},
   "outputs": [],
   "source": [
    "documents = ['java', 'python', 's5g4', 's5g2', 'spring', 'django', 'extra']\n",
    "python_class = [documents[i+1] for i in range(0, len(documents), 2)]\n",
    "\n",
    "print(python_class)"
   ]
  }
 ],
 "metadata": {
  "kernelspec": {
   "display_name": "Python 3",
   "language": "python",
   "name": "python3"
  },
  "language_info": {
   "codemirror_mode": {
    "name": "ipython",
    "version": 3
   },
   "file_extension": ".py",
   "mimetype": "text/x-python",
   "name": "python",
   "nbconvert_exporter": "python",
   "pygments_lexer": "ipython3",
   "version": "3.9.13"
  }
 },
 "nbformat": 4,
 "nbformat_minor": 2
}
