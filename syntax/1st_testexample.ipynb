{
 "cells": [
  {
   "cell_type": "markdown",
   "metadata": {},
   "source": [
    "### 객관식(4지선다) 문항\n",
    "\n",
    " **예시1 - 기본 개념을 물어보는 유형**\n",
    "  \n",
    " 다음 중, 딕셔너리에 대한 설명으로 옳지 않은 것을 고르시오.\n",
    " \n",
    "1. sequence 자료형이다.\n",
    "2. key 값을 이용해 value값을 얻을 수 있다.\n",
    " 3. key는 중복 될 수 없다.\n",
    " 4. my_dict.get('key')를 실행 했을 때, 해당하는 키가 없으면 None을 반환한다."
   ]
  },
  {
   "cell_type": "markdown",
   "metadata": {},
   "source": [
    " **예시2 - 지문 코드가 실행 되었을 때 결과를 물어보는 유형**\n",
    " \n",
    "지문의 코드를 실행했을 때, 출력되는 결과로 옳은 것을 고르시오.\n",
    " \n",
    "```python\n",
    "numbers = [[1, 2, 3], [4, 5, 6], [7, 8, 9]]\n",
    "\n",
    "for i in range(len(numbers)):\n",
    "    for j in range(len(numbers)):\n",
    "        print(numbers[j][i], end=' ')\n",
    "```\n",
    "1. 1 2 3 4 5 6 7 8 9\n",
    "2. 1 2 3 6 9 8 7 5 4\n",
    "3. 1 4 7 2 5 8 3 6 9\n",
    "4. 9 8 7 6 5 4 3 2 1"
   ]
  },
  {
   "cell_type": "code",
   "execution_count": 4,
   "metadata": {},
   "outputs": [
    {
     "name": "stdout",
     "output_type": "stream",
     "text": [
      "1 4 7 2 5 8 3 6 9 "
     ]
    }
   ],
   "source": [
    "numbers = [[1, 2, 3], [4, 5, 6], [7, 8, 9]]\n",
    "\n",
    "for i in range(len(numbers)):\n",
    "    for j in range(len(numbers)):\n",
    "        print(numbers[j][i], end=' ')"
   ]
  },
  {
   "cell_type": "markdown",
   "metadata": {},
   "source": [
    "## 단답형 문항\n",
    "**예시1 - 지문 코드가 실행 되었을 때 결과를 물어보는 유형**\n",
    "지문의 코드를 실행했을 때, 출력되는 결과를 작성하시오\n"
   ]
  },
  {
   "cell_type": "code",
   "execution_count": null,
   "metadata": {},
   "outputs": [],
   "source": [
    "class Animal:\n",
    "    def __init__(self, name):\n",
    "        self.name = name\n",
    "\n",
    "    def walk(self):\n",
    "        print('걷는다!')\n",
    "\n",
    "    def eat(self):\n",
    "        print(f'{self.name}!먹는다!')\n",
    "\n",
    "dog = Animal('dog')\n",
    "dog.walk()"
   ]
  },
  {
   "cell_type": "markdown",
   "metadata": {},
   "source": [
    " **예시2 - 지문 코드의 빈칸을 채우는 유형**\n",
    "\n",
    "지문의 코드를 실행했을 때, 리스트의 index와 요소를 모두 활용하려고 한다. 빈칸에 들어갈 코드를 작성하시오. (괄호는 작성하지 않습니다.)"
   ]
  },
  {
   "cell_type": "code",
   "execution_count": null,
   "metadata": {},
   "outputs": [],
   "source": [
    "lunch = ['짜장면', '짬뽕', '탕수육']\n",
    "\n",
    "for idx, num in __(a)__(lunch):\n",
    "    print(idx, num)\n",
    "    # 아래는 출력 예시입니다.\n",
    "    # 0 짜장면\n",
    "    # 1 짬뽕\n",
    "    # 2 탕수육"
   ]
  },
  {
   "cell_type": "markdown",
   "metadata": {},
   "source": [
    "## 서술형 문항\n",
    " **예시1 - 기본 개념에 대해 묻는 유형**\n",
    "\n",
    " 파이썬의 데이터 컨테이너는 크게 두가지 유형으로 나눌수 있는데 각각, 시퀀스(sequence)형과 비시퀀스형(Non-sequence)이라고 부른다. 이 중, 시퀀스형 데이터의 특징과 종류를 서술하시오.\n",
    "\n",
    " **예시2 - 지문의 출력 결과와 그 이유에 대해 묻는 유형**\n",
    "\n",
    "\n",
    " 지문의 코드를 실행하였을 때, 출력되는 결과와 그 이유를 서술하시오. 만약, 오류가 발생한다면, 어떤 오류가 발생하는지 왜 발생하는지도 작성하시오.\n",
    "\n"
   ]
  },
  {
   "cell_type": "code",
   "execution_count": null,
   "metadata": {},
   "outputs": [],
   "source": [
    "documents = ['java', 'python', 's5g4', 's5g2', 'spring', 'django', 'extra']\n",
    "python_class = [documents[i+1] for i in range(0, len(documents), 2)]\n",
    "\n",
    "print(python_class)"
   ]
  },
  {
   "cell_type": "markdown",
   "metadata": {},
   "source": [
    "## 월말평가 예시\n",
    "### 01\n",
    "❖김싸피는 시험점수를 관리하는 코드를 작성하려고 한다.\n",
    " ❖전체 점수중 최저점을 반환하는min_score함수를완성하시오.\n",
    " ❖ Python 내장함수min사용시감점"
   ]
  },
  {
   "cell_type": "code",
   "execution_count": null,
   "metadata": {},
   "outputs": [],
   "source": [
    "############## 주의 ##############\n",
    "# 입력을 받기위한 input 함수는 절대 사용하지 않습니다.\n",
    "# 파이썬 내장 함수 min 함수를 사용하지 않습니다.\n",
    "def min_score(scores):\n",
    "    pass\n",
    "    # 여기에 코드를 작성하여 함수를 완성합니다.\n",
    "\n",
    "\n",
    "# 추가 테스트를 위한 코드 작성 가능\n",
    "# 예) print(함수명(인자))\n",
    "\n",
    "#####################################################\n",
    "# 아래 코드를 삭제하는 경우 \n",
    "# 모든 책임은 삭제한 본인에게 있습니다. \n",
    "############## 테스트 코드 삭제 금지 #################\n",
    "print(min_score([30, 60, 90, 70])) # 30\n",
    "print(min_score([0, 10, 20, 30, 40, 50])) # 0\n",
    "print(min_score([50, 70, 50, 45, 80, 80])) # 45\n",
    "#####################################################\n",
    "\n",
    "# 테스트 코드는 이곳에\n",
    "print(min_score([100, 100]))  "
   ]
  },
  {
   "cell_type": "markdown",
   "metadata": {},
   "source": [
    "### 02\n",
    "❖김싸피는 시험점수를 관리하는 코드를 작성하려고 한다.\n",
    " ❖전체 점수중 60점 미만인 과목의 개수를 계산하여 반환하는 under_60 함수를 완성하시오."
   ]
  },
  {
   "cell_type": "code",
   "execution_count": null,
   "metadata": {},
   "outputs": [],
   "source": [
    "############## 주의 ##############\n",
    "# 입력을 받기위한 input 함수는 절대 사용하지 않습니다.\n",
    "def under_60(scores):\n",
    "    pass\n",
    "    # 여기에 코드를 작성하여 함수를 완성합니다.\n",
    "\n",
    "\n",
    "# 추가 테스트를 위한 코드 작성 가능\n",
    "# 예) print(함수명(인자))\n",
    "\n",
    "#####################################################\n",
    "# 아래 코드를 삭제하는 경우 \n",
    "# 모든 책임은 삭제한 본인에게 있습니다. \n",
    "############## 테스트 코드 삭제 금지 #################\n",
    "print(under_60([30, 60, 90, 70])) # 1\n",
    "print(under_60([0, 10, 20, 30, 40, 50])) # 6\n",
    "print(under_60([50, 70, 50, 45, 80, 80])) # 3\n",
    "#####################################################"
   ]
  },
  {
   "cell_type": "markdown",
   "metadata": {},
   "source": [
    "### 03\n",
    "❖정싸피는 이번프로젝트에서 회원가입 유효성 검사팀에 들어가게 되었다.\n",
    "\n",
    "유효성 검사팀은 회원가입과정에서 유저가 입력한정보를 검사하는 프로그램을 만드는\n",
    "팀이다.\n",
    " ❖신규아이디 생성시 아이디와 비밀번호 모두 빈값이 입력되는것을 방지하고자 한다.\n",
    " ❖사용자의 입력정보인 user_data가 python의dictionary 형태로 들어온다고할때, \n",
    "\n",
    "사용자가 입력한 아이디와 비밀번호중 하나라도 “비어있는문자열”이면 False, 그렇지\n",
    "않으면 True를 반환하는 is_user_data_valid함수를 완성하시오."
   ]
  },
  {
   "cell_type": "code",
   "execution_count": null,
   "metadata": {},
   "outputs": [],
   "source": [
    "############## 주의 ##############\n",
    "# 입력을 받기위한 input 함수는 절대 사용하지 않습니다.\n",
    "def is_user_data_valid(user_data):\n",
    "    pass\n",
    "    # 여기에 코드를 작성하여 함수를 완성합니다.\n",
    "\n",
    "\n",
    "# 추가 테스트를 위한 코드 작성 가능\n",
    "# 예) print(함수명(인자))\n",
    "\n",
    "#####################################################\n",
    "# 아래 코드를 삭제하는 경우 \n",
    "# 모든 책임은 삭제한 본인에게 있습니다. \n",
    "############## 테스트 코드 삭제 금지 #################\n",
    "user_data1 = {\n",
    "    'id': '',\n",
    "    'password': '1q2w3e4r',\n",
    "}\n",
    "print(is_user_data_valid(user_data1)) # False \n",
    "\n",
    "\n",
    "user_data2 = {\n",
    "    'id': 'jungssafy',\n",
    "    'password': '1q2w3e4r',\n",
    "}\n",
    "print(is_user_data_valid(user_data2)) # True\n",
    "#####################################################"
   ]
  },
  {
   "cell_type": "markdown",
   "metadata": {},
   "source": [
    "❖정싸피는 이번프로젝트에서 회원가입 유효성 검사팀에 들어가게 되었다.\n",
    "\n",
    "유효성 검사팀은 회원가입 과정에서 유저가 입력한 정보를 검사하는 프로그램을 만드는\n",
    "팀이다.\n",
    "\n",
    " ❖신규 생성아이디의 마지막 글자는 반드시 0부터9 사이의 숫자로 끝나야한다.\n",
    "\n",
    " ❖사용자의 입력정보인 user_data가 python의 dictionary 형태로 들어온다고 할때, \n",
    "\n",
    "사용자가 입력한 아이디가 위 조건을 만족하면True, 그렇지않으면False를 반환하는\n",
    "is_id_valid함수를 완성하시오."
   ]
  },
  {
   "cell_type": "code",
   "execution_count": null,
   "metadata": {},
   "outputs": [],
   "source": [
    "############## 주의 ##############\n",
    "# 입력을 받기위한 input 함수는 절대 사용하지 않습니다.\n",
    "def is_id_valid(user_data):\n",
    "    pass\n",
    "    # 여기에 코드를 작성하여 함수를 완성합니다.\n",
    "\n",
    "\n",
    "# 추가 테스트를 위한 코드 작성 가능\n",
    "# 예) print(함수명(인자))\n",
    "\n",
    "#####################################################\n",
    "# 아래 코드를 삭제하는 경우 \n",
    "# 모든 책임은 삭제한 본인에게 있습니다. \n",
    "############## 테스트 코드 삭제 금지 #################\n",
    "user_data1 = {\n",
    "    'id': 'jungssafy5',\n",
    "    'password': '1q2w3e4r',\n",
    "}\n",
    "print(is_id_valid(user_data1)) # True\n",
    "\n",
    "\n",
    "user_data2 = {\n",
    "    'id': 'kimssafy!',\n",
    "    'password': '1q2w3e4r',\n",
    "}\n",
    "print(is_id_valid(user_data2)) # False\n",
    "#####################################################"
   ]
  }
 ],
 "metadata": {
  "kernelspec": {
   "display_name": "Python 3",
   "language": "python",
   "name": "python3"
  },
  "language_info": {
   "codemirror_mode": {
    "name": "ipython",
    "version": 3
   },
   "file_extension": ".py",
   "mimetype": "text/x-python",
   "name": "python",
   "nbconvert_exporter": "python",
   "pygments_lexer": "ipython3",
   "version": "3.9.13"
  }
 },
 "nbformat": 4,
 "nbformat_minor": 2
}
