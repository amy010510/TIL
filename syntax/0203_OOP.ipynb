{
 "cells": [
  {
   "cell_type": "markdown",
   "metadata": {},
   "source": [
    "## 절차 지향 프로그래밍\n",
    "\n",
    "프로그램을 함수와 로직 중심으로 작성\n",
    "\n",
    "데이터를 함수에 전달하며 순차적으로 처리\n",
    "\n",
    "- 함수 호출의 흐름이 중요\n",
    "- 입력을 받고 처리하고 , 결과를 내는 과정이 위에서 아래로 순차적으로 흐르는 형태\n",
    "- 순차적인 명령어 실행\n",
    "- 데이터를 다시 재사용하거나 하기보다는 처음부터 끝까지 실행되는 결과물이 중요\n",
    "\n",
    "- 한계: 복잡성 증가, 유지보수 문제\n",
    "\n"
   ]
  },
  {
   "cell_type": "code",
   "execution_count": null,
   "metadata": {},
   "outputs": [],
   "source": [
    "# 절차 지향 사고\n",
    "# 예: 변수와 함수를 별개로 다룸\n",
    "# 데이터 중심이 아닌 . 재료로써 호출\n",
    "name = 'Alice'\n",
    "age = 25\n",
    "\n",
    "\n",
    "def introduce(name, age):\n",
    "    print(f'안녕하세요, {name}입니다. 나이는 {age}살입니다.')\n",
    "\n",
    "\n",
    "introduce(name, age)\n"
   ]
  },
  {
   "cell_type": "markdown",
   "metadata": {},
   "source": [
    "## 객체지향 프로그래밍\n",
    "\n",
    "데이터와 함수를 하나의 단위(객체)로 묶어서 관리\n",
    "\n",
    "객체들을 조합하고 재활용하는 방식으로 프로그램 구성\n",
    "\n"
   ]
  },
  {
   "cell_type": "code",
   "execution_count": null,
   "metadata": {},
   "outputs": [],
   "source": [
    "\n",
    "# 객체 지향 사고\n",
    "# 예: 사람(객체) 안에 name, age와 이와 관련된 기능(메서드) 포함\n",
    "# 행동을 호출하는 능동적인 객체, 누가 행동한다~\n",
    "class Person:\n",
    "    def __init__(self, name, age):\n",
    "        self.name = name\n",
    "        self.age = age\n",
    "\n",
    "    def introduce(self):\n",
    "        print(f'안녕하세요, {self.name}입니다. 나이는 {self.age}살입니다.')\n",
    "\n",
    "\n",
    "alice = Person('Alice', 25)\n",
    "alice.introduce()  # 객체가 자신의 정보를 출력"
   ]
  },
  {
   "cell_type": "markdown",
   "metadata": {},
   "source": [
    "### 객체지향 특징\n",
    "- 함수를 하나의 단위로 묶어 처리\n",
    "- 데이터와 메서드의 결합\n",
    "- ex. 각 기능(별개)으로 나누지 않고 볶음밥 기계라는 객체로 만들어 놓고 그 기계가 알아서 해당 행동과 재료를 관리\n",
    "\n",
    "### 절차 지향과 객체 지향은 대조가 아님\n",
    "- 기존 절차 지향을 기반으로 보완하는 것으로 객체라는 대념을 도입해 상속, 코드 재사용성, 유지보수성의 이점을 가지는 패러다임\n"
   ]
  },
  {
   "cell_type": "markdown",
   "metadata": {},
   "source": []
  },
  {
   "cell_type": "markdown",
   "metadata": {},
   "source": [
    "## 객체와 클래스\n",
    "\n",
    "1. 객체 \n",
    "실제 존재하는 사물을 추상화한것.\n",
    "\n",
    "파이썬의 모든것은 객체이다\n",
    "\n",
    "\"속성\"(변수)과 \"동작\"(메서드)을 가짐\n",
    "\n",
    "ex. 루비 = 강아지()\n",
    "루비.종\n",
    "루비.나이\n",
    "\n",
    "2. 클래스\n",
    "객체를 만들기 위한 설계도\n",
    "\n",
    "데이터와 기능을 함께 묶는 방법을 제공\n",
    "\n",
    "파이썬에서 타입을 표현하는 방법\n",
    "\n",
    "- 클래스로부터 여러개의 객체를 쉽게 찍어낼 수 있음"
   ]
  },
  {
   "cell_type": "code",
   "execution_count": null,
   "metadata": {},
   "outputs": [],
   "source": [
    "a='abc'\n",
    "print(type(a)) #<class 'str'>"
   ]
  },
  {
   "cell_type": "markdown",
   "metadata": {},
   "source": [
    "가수(클래스)\n",
    "\n",
    "-> 객체 (아이유, 아이브,...)\n",
    "\n",
    "### 객체 특징\n",
    "- 속성\n",
    "객체의 상태와 데이터\n",
    "- 메서드\n",
    "객체의 행동과 기능\n",
    "- 고유성\n",
    "각 객체는 고유한 특성을 갖는다\n"
   ]
  },
  {
   "cell_type": "markdown",
   "metadata": {},
   "source": [
    "## 클래스\n",
    "데이터와 기능을 하나의 틀로 묶어 관리\n",
    "\n",
    "사용자 정의 개겣를 만드는 수단이자 속성과 메서드를 정의\n",
    "\n",
    "원래 snake_case 언더바 붙이던거 \n",
    "\n",
    "-> 클래스 이름은 파스칼 케이스(Pascal Case) 방식으로 작성\n",
    "\n",
    "```python\n",
    "class MyClass:\n",
    "    pass\n",
    "```\n",
    "\n",
    "- **__init__**메서드는 '생성자 메서드'로 불림\n",
    "양쪽 언더바 = 매직메서드\n",
    "새로운 객체를 만들때 필요한 초기값을 설정\n",
    "\n"
   ]
  },
  {
   "cell_type": "code",
   "execution_count": null,
   "metadata": {},
   "outputs": [],
   "source": [
    "class Person:\n",
    "    def __init__(self, name, age):  # 개발자가 실제로 호출 진행x, 자동호출\n",
    "        self.name = name  # 인스턴스 속성\n",
    "        self.age = age  # 인스턴스 속성\n",
    "\n",
    "    def introduce(self):\n",
    "        print(f'안녕하세요. 저는 {self.name}, 나이는 {self.age}살입니다.')\n"
   ]
  },
  {
   "cell_type": "markdown",
   "metadata": {},
   "source": [
    "## 인스턴스\n",
    "클래스를 통해 생성된 객체\n",
    "\n",
    "클래스가 설계도라면, 인스턴스는 설계도로부터 실제로 만든 '개별 물건'\n",
    "\n",
    "```python\n",
    "p1 = Person('Alice', 25)\n",
    "p1.introduce() #'안녕하세요. 저는 ~'\n",
    "\n",
    "p2 = Person('Bella', 30  # p1,p2 독립적, 동일한 클래스에서 탄생하여 introduce 사용 같이 가능\n",
    "p2.introduce() # '안녕하세요. 저는 Bella~\n",
    "```\n",
    "\n",
    "아이유는 객체다(o)\n",
    "\n",
    "아이유는 인스턴스다(X)\n",
    "\n",
    "아이유는 가수의 인스턴스이다(o)\n",
    "\n",
    "변수 name은 str 클래스의 인스턴스\n",
    "\n",
    "우리가 사용했던 데이터 타입은 사실 모두 클래스 였어.\n",
    "```python\n",
    "name = 'Alice' # str 클래스의 인스턴스\n",
    "```\n",
    "\n",
    "-> 문자열 타입의 변수는 str 클래스로 생성된 인스턴스!\n",
    "\n",
    "- \"hello\".upper()\n",
    "\n",
    "hello는 str의 인스턴스  upper는 str 클래스의 메서드\n",
    "\n",
    "- .append()\n",
    "\n",
    "list 클래스의 메서드\n",
    "\n",
    "- 'python' '' 'hello'\n",
    "\n",
    "문자열 타입(클래스)의 객체(인스턴스)\n",
    "\n",
    "#### 하나의 객체는 특정 클래스의 인스턴스이다"
   ]
  },
  {
   "cell_type": "markdown",
   "metadata": {},
   "source": [
    "## 클래스 구조\n",
    "\n",
    "1. 생성자 메서드\n",
    "매직 메서드\n",
    "- 인스턴스 생성시 자동 호출되는 특별한 메서드\n",
    "- __init__이라는 이름의 메서드로 정의\n",
    "- 인스턴스 변수의 초기화 담당\n",
    "\n",
    "2. 인스턴스 변수(속성)\n",
    "- 각 인스턴스별 고유한 속성\n",
    "- self.변수명 형태로 정의\n",
    "- 인스턴스마다 독립적인 값 유지\n",
    "\n",
    "3. 클래스 변수(속성)\n",
    "- 모든 인스턴스가 공유하는 속성\n",
    "- 클래스 내부에서 직접정의"
   ]
  },
  {
   "cell_type": "code",
   "execution_count": 1,
   "metadata": {},
   "outputs": [
    {
     "name": "stdout",
     "output_type": "stream",
     "text": [
      "1\n",
      "5\n",
      "3.14\n",
      "3.14\n"
     ]
    }
   ],
   "source": [
    "class Circle:\n",
    "    # 클래스 변수(속성)\n",
    "    pi = 3.14\n",
    "\n",
    "    # 생성자 메서드\n",
    "    def __init__(self, radius): #radius는 위치인자\n",
    "        self.radius = radius\n",
    "\n",
    "# 인스턴스 생성 . 매번 찍을때마다 초기화     \n",
    "c1 = Circle(1)\n",
    "c2 = Circle(5)\n",
    "\n",
    "# 인스턴스 변수(속성)\n",
    "print(c1.radius)  # 1\n",
    "print(c2.radius)  # 5\n",
    "\n",
    "# 클래스 변수(속성)\n",
    "print(c1.pi) # 3.14\n",
    "print(c2.pi) # 3.14"
   ]
  },
  {
   "cell_type": "code",
   "execution_count": null,
   "metadata": {},
   "outputs": [],
   "source": [
    "class Circle:\n",
    "    pi = 3.14\n",
    "\n",
    "    def __init__(self, radius):\n",
    "        self.radius = radius\n",
    "\n",
    "\n",
    "c1 = Circle(5)\n",
    "c2 = Circle(10)\n",
    "\n",
    "print(c1.radius)  # 5\n",
    "print(c2.radius)  # 10\n",
    "\n",
    "# c1의 인스턴스 변수 pi를 생성\n",
    "c1.pi = 100\n",
    "\n",
    "print(c1.pi)  # 100\n",
    "print(Circle.pi)  # 3.14  안바뀜\n",
    "\n",
    "# c2는 인스턴스 변수 pi가 없으므로 클래스 변수 pi를 참조\n",
    "print(c2.pi)  # 3.14\n",
    "\n",
    "# 인스턴스가 변수를 자신에게서 먼저 찾고 -> 없으면 클래스에서 찾기 때문에"
   ]
  },
  {
   "cell_type": "markdown",
   "metadata": {},
   "source": [
    "## 메서드\n",
    "클래스 내부에 정의된 함수, 해당 객체가 어떻게 동작할지를 정의\n",
    "\n",
    "#### 종류\n",
    "1. 인스턴스 메서드 (여태 한 거)\n",
    "2. 클래스 메서드\n",
    "3. 스태틱 메서드\n",
    "\n",
    "### 인스턴스 메서드\n",
    "클래스로부터 생성된 각 인스턴스에서 호출할 수 있는 메서드\n",
    "- 인스턴스의 상태를 조작하거나 동작을 수행\n",
    "\n",
    "#### 인스턴스 메서드 구조\n",
    "- 반드시 첫번째 인자로 인스턴스 자신(self)를 받음  # 다른이름으로 설정가능하나 다른이름 권장 x\n",
    "\n",
    "**self 동작원리**"
   ]
  },
  {
   "cell_type": "code",
   "execution_count": null,
   "metadata": {},
   "outputs": [],
   "source": [
    "'hello'.upper()  # 객체지향 방식의 메서드로 호출하는 표현(단축형 호출)\n",
    "\n",
    "#사실은  # 내부원리는\n",
    "str.upper('hello')\n",
    "# 첫번째 인자로 'hello'가 들어간것\n",
    "\n",
    "# -> 인스턴스 메서드의 첫 번째 인자가 반드시 인스턴스 자기 자신인 이유"
   ]
  },
  {
   "cell_type": "code",
   "execution_count": 5,
   "metadata": {},
   "outputs": [
    {
     "name": "stdout",
     "output_type": "stream",
     "text": [
      "0\n",
      "1\n",
      "0\n",
      "2\n"
     ]
    }
   ],
   "source": [
    "class Counter:\n",
    "    def __init__(self):  # 인스턴스 메서드 . 생성자함수도 self없으면 안돼\n",
    "        self.count = 0   # count변수에 0을 가지며 탄생\n",
    "\n",
    "    def increment(self):\n",
    "        self.count += 1\n",
    "\n",
    "c = Counter()\n",
    "# Counter.__init__(인스턴스)   내부 원리리\n",
    "print(c.count)\n",
    "c.increment()\n",
    "print(c.count)\n",
    "\n",
    "c2 = Counter()\n",
    "c.increment() #c가 증가\n",
    "print(c2.count)  # 0   인스턴스는 서로 독립적이다\n",
    "print(c.count)  # 2 얘가 2가 된거임. 클래스가 아니라 인스턴스의 변수"
   ]
  },
  {
   "cell_type": "code",
   "execution_count": null,
   "metadata": {},
   "outputs": [],
   "source": [
    "class Person:\n",
    "    def __init__(self, name): \n",
    "        # 왼쪽 name : 인스턴스 변수 name\n",
    "        # 오른쪽 name : 생성자 메서드의 매개변수 이름\n",
    "        self.name = name  # 오른쪽이 (self, name)의 name\n",
    "        print('인스턴스가 생성되었습니다.')  # 자동호출확인\n",
    "\n",
    "    def greeting(self):  # 위치인자 self\n",
    "        print(f'안녕하세요 {self.name}입니다.')\n",
    "\n",
    "\n",
    "person1 = Person('지민')  # 인스턴스가 생성되었습니다.\n",
    "person1.greeting()  # 안녕하세요. 지민입니다.\n",
    "# Person.greeting(person1) # 안녕하세요. 지민입니다.\n"
   ]
  },
  {
   "cell_type": "markdown",
   "metadata": {},
   "source": [
    "### 클래스 메서드\n",
    "클래스가 호출하는 메서드\n",
    "- 클래스 변수를 조작, 클래스 레벨의 동작을 수행\n",
    "\n",
    "- @classmethod 데코레이터를 사용하여 정의\n",
    "- 호출시, 첫번째 인자로 해당 메서드를 호출하는 클래스 cls가 전달됨"
   ]
  },
  {
   "cell_type": "code",
   "execution_count": null,
   "metadata": {},
   "outputs": [],
   "source": [
    "class MyClass:\n",
    "\n",
    "    @classmethod\n",
    "    def class_method(cls,arg1,arg2):\n",
    "        pass"
   ]
  },
  {
   "cell_type": "code",
   "execution_count": 10,
   "metadata": {},
   "outputs": [
    {
     "name": "stdout",
     "output_type": "stream",
     "text": [
      "2\n"
     ]
    }
   ],
   "source": [
    "class Person:\n",
    "    population = 0  # 1씩 늘리는걸 클래스 변수로\n",
    "\n",
    "    def __init__(self, name):\n",
    "        self.name = name\n",
    "        Person.increase_population() # 클래스가 클래스 메서드 호출 #인스턴스 생성시 마다 이걸 호출하려고\n",
    "\n",
    "    @classmethod # 클래스 메서드이다\n",
    "    def increase_population(cls):  \n",
    "        cls.population += 1\n",
    "\n",
    "person1 = Person('Alice')\n",
    "person2 = Person('Bob')\n",
    "print(Person.population)  # 2\n",
    "\n",
    "Person.increase_population() # 밖에서도 가능, 안에다가 쓴건 인스턴스 생성시마다 1증가 위해"
   ]
  },
  {
   "cell_type": "markdown",
   "metadata": {},
   "source": [
    "### 스태틱 메서드\n",
    "= 정적 메서드\n",
    "\n",
    "클래스, 인스턴스와 상관없이 독립적으로 사용하는 메서드\n",
    "\n",
    "#### 구조\n",
    "@staticmethod 데코레이터를 사용하여 정의\n",
    "- 호출 시 자동으로 전달 받는 인자가 없음(self,cls 안받아)\n",
    "- '도우미 함수'와 비슷한 역할\n"
   ]
  },
  {
   "cell_type": "code",
   "execution_count": null,
   "metadata": {},
   "outputs": [],
   "source": [
    "# 덧셈 기능을 제공하는 예시 - 인스턴스 클래스 관계업이 그냥 덧셈기능 위해 \n",
    "class MathUtils:\n",
    "    @staticmethod\n",
    "    def add(a,b):\n",
    "        return a+b\n",
    "\n",
    "# 호출은 클래스가! \n",
    "print(MathUtils.add(3,5))  # 8"
   ]
  },
  {
   "cell_type": "markdown",
   "metadata": {},
   "source": [
    "## 메서드 활용"
   ]
  },
  {
   "cell_type": "code",
   "execution_count": 19,
   "metadata": {},
   "outputs": [
    {
     "name": "stdout",
     "output_type": "stream",
     "text": [
      "Alice\n",
      "1000\n",
      "1500\n",
      "1200\n",
      "None\n",
      "0.03\n",
      "True\n"
     ]
    }
   ],
   "source": [
    "# 입출금이 가능한 은행 계좌 클래스 만들기\n",
    "# 은행 계좌를 모델링하는 클래스를 만들고, 입출금 기능(메서드)를 구현\n",
    "\n",
    "\n",
    "class BankAccount:\n",
    "    interest_rate = 0.02  # 이자율\n",
    "\n",
    "    def __init__(self, owner, balance=0):\n",
    "        self.owner = owner  # 계좌 소유자\n",
    "        self.balance = balance  # 초기 잔액\n",
    "        # 인스턴스 생성시 2개의 변수 갖게 되는 \n",
    " \n",
    "    # 입금 \n",
    "    # balance 인스턴스변수를 조작 = 인스턴스 메서드\n",
    "    def deposit(self, amount):\n",
    "        self.balance += amount\n",
    "\n",
    "\n",
    "    # 출금\n",
    "    # balance 조작 = 인스턴스 메서드\n",
    "    def withdraw(self, amount):\n",
    "        if self.balance >= amount:  # 더 확실하게\n",
    "            self.balance -= amount\n",
    "        else:\n",
    "            print('잔액이 부족합니다')\n",
    "        \n",
    "        \n",
    "    # 이자율 설정\n",
    "    @classmethod\n",
    "    def set_interest_rate(cls, new_rate):\n",
    "        cls.interest_rate = new_rate  # 이자율을 바꾸겠다~\n",
    "\n",
    "    # 금액이 양수인지 검증  #단독적 기능\n",
    "    @staticmethod\n",
    "    def is_positive(amount):\n",
    "        return amount > 0\n",
    "\n",
    "\n",
    "# 계좌 개설 (인스턴스 생성)\n",
    "alice_acc = BankAccount('Alice' , 1000)\n",
    "print(alice_acc.owner) # Alice\n",
    "print(alice_acc.balance) # 1000\n",
    "\n",
    "# 입금 및 출금 (인스턴스 메서드 호출)\n",
    "alice_acc.deposit(500) #인자를 받아야 겠지? 생각하기\n",
    "print(alice_acc.balance) #1500\n",
    "\n",
    "alice_acc.withdraw(300) \n",
    "print(alice_acc.balance) # 1200\n",
    "\n",
    "# 잔액 확인 (인스턴스 변수 참조)\n",
    "# alice_acc.withdraw(3000)\n",
    "# print(alice_acc.balance)  # 잔액이 부족합니다 1200\n",
    "\n",
    "# 이자율 변경 (클래스 메서드 호출)\n",
    "print(BankAccount.set_interest_rate(0.03))  \n",
    "print(BankAccount.interest_rate) # 0.03\n",
    "\n",
    "# 잔액이 양수인지 확인 (정적 메서드 호출)\n",
    "print(BankAccount.is_positive(alice_acc.balance))  # True\n"
   ]
  },
  {
   "cell_type": "markdown",
   "metadata": {},
   "source": [
    "### 정리\n",
    "1. 클래스가 사용해야 할것\n",
    "- 클래스 메서드\n",
    "- 스태틱 메서드\n",
    "\n",
    "2. 인스턴스가 사용\n",
    "- 인스턴스 메서드\n",
    "\n",
    "> 정리 이유"
   ]
  },
  {
   "cell_type": "code",
   "execution_count": 21,
   "metadata": {},
   "outputs": [
    {
     "name": "stdout",
     "output_type": "stream",
     "text": [
      "('instance method', <__main__.MyClass object at 0x0000010DCEC3B970>)\n",
      "('class method', <class '__main__.MyClass'>)\n",
      "static method\n",
      "('instance method', <__main__.MyClass object at 0x0000010DCEC3B970>)\n",
      "('class method', <class '__main__.MyClass'>)\n",
      "static method\n"
     ]
    }
   ],
   "source": [
    "class MyClass:\n",
    "    def instance_method(self):\n",
    "        return 'instance method', self\n",
    "\n",
    "    @classmethod\n",
    "    def class_method(cls):\n",
    "        return 'class method', cls\n",
    "\n",
    "    @staticmethod\n",
    "    def static_method():\n",
    "        return 'static method'\n",
    "\n",
    "\n",
    "instance = MyClass()\n",
    "# 클래스가 할 수 있는 것\n",
    "print(MyClass.instance_method(instance))\n",
    "print(MyClass.class_method())\n",
    "print(MyClass.static_method())\n",
    "\n",
    "\n",
    "# 인스턴스가 할 수 있는 것\n",
    "print(instance.instance_method())\n",
    "print(instance.class_method())\n",
    "print(instance.static_method())\n",
    "\n",
    "# 다 호출이 가능해버리기에.. 파이썬이 막지 않음"
   ]
  },
  {
   "cell_type": "markdown",
   "metadata": {},
   "source": [
    "### ➕ 클래스와 인스턴스 간 이름공간\n",
    "- 클래스 정의 시 , 클래스 이름공간 생성\n",
    "- 인스턴스 만들면, 인스턴스 객체가 생성, **독립적인** 이름공간 생성"
   ]
  },
  {
   "cell_type": "code",
   "execution_count": null,
   "metadata": {},
   "outputs": [],
   "source": [
    "class Person:\n",
    "    name = 'unknown'\n",
    "\n",
    "    def talk(self):  # 재사용가능능\n",
    "        print(self.name)\n",
    "\n",
    "\n",
    "p1 = Person()             #p1은 인스턴스 변수가 정의되어있지 않아 클래스 변수(unknown)출력\n",
    "p1.talk()  # unknown\n",
    "\n",
    "# p2 인스턴스 변수 설정 전/후\n",
    "p2 = Person()\n",
    "p2.talk()  # unknown\n",
    "p2.name = 'Kim'          # p2 인스턴스 변수 정의되어 인스턴스 변수(Kim) 출력\n",
    "p2.talk()  # Kim\n",
    "\n",
    "print(Person.name)  # unknown\n",
    "print(p1.name)  # unknown\n",
    "print(p2.name)  # Kim"
   ]
  },
  {
   "cell_type": "markdown",
   "metadata": {},
   "source": [
    "### ➕ 매직 메서드"
   ]
  },
  {
   "cell_type": "code",
   "execution_count": null,
   "metadata": {},
   "outputs": [],
   "source": [
    "# __str__(self)\n",
    "# - 내장함수 print에 의해 호출되어 객체 출력을 문자열 표현으로 변경\n",
    "class Circle:\n",
    "    def __init__(self, radius):\n",
    "        self.radius = radius\n",
    "\n",
    "    def __str__(self):\n",
    "        return f'원의 반지름: {self.radius}'\n",
    "\n",
    "\n",
    "c1 = Circle(10)\n",
    "c2 = Circle(1)\n",
    "\n",
    "print(c1)  # 원의 반지름: 10\n",
    "print(c2)  # 원의 반지름: 1"
   ]
  },
  {
   "cell_type": "markdown",
   "metadata": {},
   "source": [
    "### ➕ 데코레이터\n",
    "다른 함수의 코드를 유지한 채로 수정하거나 확장하기 위해 사용되는 함수"
   ]
  },
  {
   "cell_type": "code",
   "execution_count": null,
   "metadata": {},
   "outputs": [],
   "source": [
    "# 데코레이터 정의\n",
    "def my_decorator(func):\n",
    "    def wrapper():\n",
    "        # 함수 실행 전에 수행할 작업\n",
    "        print('함수 실행 전')\n",
    "        # 원본 함수 호출\n",
    "        result = func()\n",
    "        # 함수 실행 후에 수행할 작업\n",
    "        print('함수 실행 후')\n",
    "        return result\n",
    "    return wrapper\n",
    "\n",
    "\n",
    "# 데코레이터 사용\n",
    "@my_decorator\n",
    "def my_function():\n",
    "    print('원본 함수 실행')\n",
    "my_function()\n",
    "\n",
    "\"\"\"\n",
    "함수 실행 전\n",
    "원본 함수 실행\n",
    "함수 실행 후\n",
    "\"\"\""
   ]
  }
 ],
 "metadata": {
  "kernelspec": {
   "display_name": "Python 3",
   "language": "python",
   "name": "python3"
  },
  "language_info": {
   "codemirror_mode": {
    "name": "ipython",
    "version": 3
   },
   "file_extension": ".py",
   "mimetype": "text/x-python",
   "name": "python",
   "nbconvert_exporter": "python",
   "pygments_lexer": "ipython3",
   "version": "3.9.13"
  }
 },
 "nbformat": 4,
 "nbformat_minor": 2
}
