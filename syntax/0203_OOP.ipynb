{
 "cells": [
  {
   "cell_type": "markdown",
   "metadata": {},
   "source": [
    "## 절차 지향 프로그래밍\n",
    "\n",
    "프로그램을 함수와 로직 중심으로 작성\n",
    "\n",
    "데이터를 함수에 전달하며 순차적으로 처리\n",
    "\n",
    "- 함수 호출의 흐름이 중요\n",
    "- 입력을 받고 처리하고 , 결과를 내는 과정이 위에서 아래로 순차적으로 흐르는 형태\n",
    "- 순차적인 명령어 실행\n",
    "- 데이터를 다시 재사용하거나 하기보다는 처음부터 끝까지 실행되는 결과물이 중요\n",
    "\n",
    "- 한계: 복잡성 증가, 유지보수 문제\n",
    "\n"
   ]
  },
  {
   "cell_type": "code",
   "execution_count": null,
   "metadata": {},
   "outputs": [],
   "source": [
    "# 절차 지향 사고\n",
    "# 예: 변수와 함수를 별개로 다룸\n",
    "# 데이터 중심이 아닌 . 재료로써 호출\n",
    "name = 'Alice'\n",
    "age = 25\n",
    "\n",
    "\n",
    "def introduce(name, age):\n",
    "    print(f'안녕하세요, {name}입니다. 나이는 {age}살입니다.')\n",
    "\n",
    "\n",
    "introduce(name, age)\n"
   ]
  },
  {
   "cell_type": "markdown",
   "metadata": {},
   "source": [
    "## 객체지향 프로그래밍\n",
    "\n",
    "데이터와 함수를 하나의 단위(객체)로 묶어서 관리\n",
    "\n",
    "객체들을 조합하고 재활용하는 방식으로 프로그램 구성\n",
    "\n"
   ]
  },
  {
   "cell_type": "code",
   "execution_count": null,
   "metadata": {},
   "outputs": [],
   "source": [
    "\n",
    "# 객체 지향 사고\n",
    "# 예: 사람(객체) 안에 name, age와 이와 관련된 기능(메서드) 포함\n",
    "# 행동을 호출하는 능동적인 객체, 누가 행동한다~\n",
    "class Person:\n",
    "    def __init__(self, name, age):\n",
    "        self.name = name\n",
    "        self.age = age\n",
    "\n",
    "    def introduce(self):\n",
    "        print(f'안녕하세요, {self.name}입니다. 나이는 {self.age}살입니다.')\n",
    "\n",
    "\n",
    "alice = Person('Alice', 25)\n",
    "alice.introduce()  # 객체가 자신의 정보를 출력"
   ]
  },
  {
   "cell_type": "markdown",
   "metadata": {},
   "source": [
    "### 객체지향 특징\n",
    "- 함수를 하나의 단위로 묶어 처리\n",
    "- 데이터와 메서드의 결합\n",
    "- ex. 각 기능(별개)으로 나누지 않고 볶음밥 기계라는 객체로 만들어 놓고 그 기계가 알아서 해당 행동과 재료를 관리\n",
    "\n",
    "### 절차 지향과 객체 지향은 대조가 아님\n",
    "- 기존 절차 지향을 기반으로 보완하는 것으로 객체라는 대념을 도입해 상속, 코드 재사용성, 유지보수성의 이점을 가지는 패러다임\n"
   ]
  },
  {
   "cell_type": "markdown",
   "metadata": {},
   "source": []
  },
  {
   "cell_type": "markdown",
   "metadata": {},
   "source": [
    "## 객체와 클래스\n",
    "\n",
    "1. 객체 \n",
    "실제 존재하는 사물을 추상화한것.\n",
    "\n",
    "파이썬의 모든것은 객체이다\n",
    "\n",
    "\"속성\"(변수)과 \"동작\"(메서드)을 가짐\n",
    "\n",
    "ex. 루비 = 강아지()\n",
    "루비.종\n",
    "루비.나이\n",
    "\n",
    "2. 클래스\n",
    "객체를 만들기 위한 설계도\n",
    "\n",
    "데이터와 기능을 함께 묶는 방법을 제공\n",
    "\n",
    "파이썬에서 타입을 표현하는 방법\n",
    "\n",
    "- 클래스로부터 여러개의 객체를 쉽게 찍어낼 수 있음"
   ]
  },
  {
   "cell_type": "code",
   "execution_count": null,
   "metadata": {},
   "outputs": [],
   "source": [
    "a='abc'\n",
    "print(type(a)) #<class 'str'>"
   ]
  },
  {
   "cell_type": "markdown",
   "metadata": {},
   "source": [
    "가수(클래스)\n",
    "\n",
    "-> 객체 (아이유, 아이브,...)\n",
    "\n",
    "### 객체 특징\n",
    "- 속성\n",
    "객체의 상태와 데이터\n",
    "- 메서드\n",
    "객체의 행동과 기능\n",
    "- 고유성\n",
    "각 객체는 고유한 특성을 갖는다\n"
   ]
  },
  {
   "cell_type": "markdown",
   "metadata": {},
   "source": [
    "## 클래스\n",
    "데이터와 기능을 하나의 틀로 묶어 관리\n",
    "\n",
    "사용자 정의 개겣를 만드는 수단이자 속성과 메서드를 정의\n",
    "\n",
    "원래 snake_case 언더바 붙이던거 \n",
    "\n",
    "-> 클래스 이름은 파스칼 케이스(Pascal Case) 방식으로 작성\n",
    "\n",
    "```python\n",
    "class MyClass:\n",
    "    pass\n",
    "```\n",
    "\n",
    "- **__init__**메서드는 '생성자 메서드'로 불림\n",
    "양쪽 언더바 = 매직메서드\n",
    "새로운 객체를 만들때 필요한 초기값을 설정\n",
    "\n"
   ]
  },
  {
   "cell_type": "code",
   "execution_count": null,
   "metadata": {},
   "outputs": [],
   "source": [
    "class Person:\n",
    "    def __init__(self, name, age):  # 개발자가 실제로 호출 진행x, 자동호출\n",
    "        self.name = name  # 인스턴스 속성\n",
    "        self.age = age  # 인스턴스 속성\n",
    "\n",
    "    def introduce(self):\n",
    "        print(f'안녕하세요. 저는 {self.name}, 나이는 {self.age}살입니다.')\n"
   ]
  },
  {
   "cell_type": "markdown",
   "metadata": {},
   "source": [
    "## 인스턴스\n",
    "클래스를 통해 생성된 객체\n",
    "\n",
    "클래스가 설계도라면, 인스턴스는 설계도로부터 실제로 만든 '개별 물건'\n",
    "\n",
    "```python\n",
    "p1 = Person('Alice', 25)\n",
    "p1.introduce() #'안녕하세요. 저는 ~'\n",
    "\n",
    "p2 = Person('Bella', 30  # p1,p2 독립적, 동일한 클래스에서 탄생하여 introduce 사용 같이 가능\n",
    "p2.introduce() # '안녕하세요. 저는 Bella~\n",
    "```\n",
    "\n",
    "아이유는 객체다(o)\n",
    "\n",
    "아이유는 인스턴스다(X)\n",
    "\n",
    "아이유는 가수의 인스턴스이다(o)\n",
    "\n",
    "변수 name은 str 클래스의 인스턴스\n",
    "\n",
    "우리가 사용했던 데이터 타입은 사실 모두 클래스 였어.\n",
    "```python\n",
    "name = 'Alice' # str 클래스의 인스턴스\n",
    "```\n",
    "\n",
    "-> 문자열 타입의 변수는 str 클래스로 생성된 인스턴스!\n",
    "\n",
    "- \"hello\".upper()\n",
    "\n",
    "hello는 str의 인스턴스  upper는 str 클래스의 메서드\n",
    "\n",
    "- .append()\n",
    "\n",
    "list 클래스의 메서드\n",
    "\n",
    "- 'python' '' 'hello'\n",
    "\n",
    "문자열 타입(클래스)의 객체(인스턴스)\n",
    "\n",
    "#### 하나의 객체는 특정 클래스의 인스턴스이다"
   ]
  },
  {
   "cell_type": "markdown",
   "metadata": {},
   "source": [
    "## 클래스 구조\n",
    "\n",
    "1. 생성자 메서드\n",
    "매직 메서드\n",
    "- 인스턴스 생성시 자동 호출되는 특별한 메서드\n",
    "- __init__이라는 이름의 메서드로 정의\n",
    "- 인스턴스 변수의 초기화 담당\n",
    "\n",
    "2. 인스턴스 변수(속성)\n",
    "- 각 인스턴스별 고유한 속성\n",
    "- self.변수명 형태로 정의\n",
    "- 인스턴스마다 독립적인 값 유지\n",
    "\n",
    "3. 클래스 변수(속성)\n",
    "- 모든 인스턴스가 공유하는 속성\n",
    "- 클래스 내부에서 직접정의"
   ]
  },
  {
   "cell_type": "code",
   "execution_count": null,
   "metadata": {},
   "outputs": [
    {
     "ename": "",
     "evalue": "",
     "output_type": "error",
     "traceback": [
      "\u001b[1;31mRunning cells with 'Python 3.9.13' requires the ipykernel package.\n",
      "\u001b[1;31mRun the following command to install 'ipykernel' into the Python environment. \n",
      "\u001b[1;31mCommand: 'c:/Users/SSAFY/AppData/Local/Programs/Python/Python39/python.exe -m pip install ipykernel -U --user --force-reinstall'"
     ]
    }
   ],
   "source": [
    "class Circle:\n",
    "    # 클래스 변수(속성)\n",
    "    pi = 3.14\n",
    "\n",
    "    # 생성자 메서드\n",
    "    def __init__(self, radius): #radius는 위치인자\n",
    "        self.radius = radius\n",
    "\n",
    "# 인스턴스 생성 . 매번 찍을때마다 초기화     \n",
    "c1 = Circle(1)\n",
    "c2 = Circle(5)\n",
    "\n",
    "# 인스턴스 변수(속성)\n",
    "print(c1.radius)  # 1\n",
    "print(c2.radius)  # 5\n",
    "\n",
    "# 클래스 변수(속성)\n",
    "print(c1.pi) # 3.14\n",
    "print(c2.pi) # 3.14"
   ]
  },
  {
   "cell_type": "code",
   "execution_count": null,
   "metadata": {},
   "outputs": [],
   "source": [
    "class Circle:\n",
    "    pi = 3.14\n",
    "\n",
    "    def __init__(self, radius):\n",
    "        self.radius = radius\n",
    "\n",
    "\n",
    "c1 = Circle(5)\n",
    "c2 = Circle(10)\n",
    "\n",
    "print(c1.radius)  # 5\n",
    "print(c2.radius)  # 10\n",
    "\n",
    "# c1의 인스턴스 변수 pi를 생성\n",
    "c1.pi = 100\n",
    "\n",
    "print(c1.pi)  # 100\n",
    "print(Circle.pi)  # 3.14  안바뀜\n",
    "\n",
    "# c2는 인스턴스 변수 pi가 없으므로 클래스 변수 pi를 참조\n",
    "print(c2.pi)  # 3.14\n",
    "\n",
    "# 인스턴스가 변수를 자신에게서 먼저 찾고 -> 없으면 클래스에서 찾기 때문에"
   ]
  },
  {
   "cell_type": "markdown",
   "metadata": {},
   "source": [
    "## 메서드\n",
    "클래스 내부에 정의된 함수, 해당 객체가 어떻게 동작할지를 정의\n",
    "\n",
    "#### 종류\n",
    "1. 인스턴스 메서드 (여태 한 거)\n",
    "2. 클래스 메서드\n",
    "3. 스태틱 메서드\n",
    "\n",
    "### 인스턴스 메서드\n"
   ]
  }
 ],
 "metadata": {
  "kernelspec": {
   "display_name": "Python 3",
   "language": "python",
   "name": "python3"
  },
  "language_info": {
   "name": "python",
   "version": "3.9.13"
  }
 },
 "nbformat": 4,
 "nbformat_minor": 2
}
