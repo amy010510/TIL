{
 "cells": [
  {
   "cell_type": "markdown",
   "metadata": {},
   "source": [
    "# 단축 평가\n",
    "- 단축 평가를 사용하면...우리는 조금 더 파이썬스러운 코드를 작성할 수 있다.\n",
    "  - 논리 연산 결과가 확실할 때 나머지 **평가**를 건너뛰는 기능입니다. "
   ]
  },
  {
   "cell_type": "code",
   "execution_count": 2,
   "metadata": {},
   "outputs": [
    {
     "name": "stdout",
     "output_type": "stream",
     "text": [
      "False\n",
      "이 문장은 출력됩니다.\n",
      "None\n"
     ]
    }
   ],
   "source": [
    "# and 연산자\n",
    "# 첫 번째 조건이 False이면 두번째 조건은 평가되지 않습니다.\n",
    "result = False and print(\"이 문장은 출력되지 않습니다.\")\n",
    "print(result)\n",
    "result = True and print(\"이 문장은 출력됩니다.\") # 이 문장은 출력됩니다.\n",
    "print(result) # None 내장 함수는 반환값이 없다"
   ]
  },
  {
   "cell_type": "code",
   "execution_count": 3,
   "metadata": {},
   "outputs": [
    {
     "name": "stdout",
     "output_type": "stream",
     "text": [
      "True\n",
      "이 문장은 출력됩니다.\n",
      "None\n"
     ]
    }
   ],
   "source": [
    "# or 연산자 \n",
    "# 첫번째 조건이 True여서 or 뒤에 조건은 평가가 이루어 지지 않는다. \n",
    "result = True or print(\"이 문장은 출력되지 않습니다.\") # 출력이 이루어 지지 않는다.\n",
    "print(result) # True 출력된다.\n",
    "result = False or print(\"이 문장은 출력됩니다.\") # 이 문장은 출력됩니다.\n",
    "print(result) # None 내장 함수는 반환값이 없다"
   ]
  },
  {
   "cell_type": "markdown",
   "metadata": {},
   "source": [
    "# Truthy / Falsy \n",
    "> 프로그래밍 언어에서  `Truthy` / `Falsy` 개념은 컨텍스트 내에서 값들이 어떻게 평가되는지 설명하는 것이 중요. Truthy / Falsy \n",
    "\n",
    "## Truthy\n",
    "  - 컨텍스트 내에서 True로 평가되는 값입니다.\n",
    "\n",
    "## Falsy \n",
    "  - 컨텍스트 내에서 False로 평가되는 값입니다.\n",
    "\n",
    "### Falsy로 평가되는 값들 \n",
    "\n",
    "  1. 빈 시퀀스 & 컬렉션 \n",
    "    - 빈 리스트 `[]`\n",
    "    - 빈 튜플 `()`\n",
    "    - 빈 딕셔너리 `{}`\n",
    "    - 빈 집합 `set()`\n",
    "    - 빈 문자열 `\"\"`\n",
    "    - 빈 range `range(0)`\n",
    "  2. 숫자:\n",
    "    - 정수, 부동소수, 복소수\n",
    "  3. 상수\n",
    "    None, False\n",
    "\n",
    "### Truthy로 평가되는 값들\n",
    "  - Falsy로 명시되지 않은 대부분의 값들이 Truthy입니다.\n",
    "    - 비어있지 않은 시퀀스 컬렉션 등등\n",
    "    - 0이 아닌 모든 숫자\n"
   ]
  },
  {
   "cell_type": "code",
   "execution_count": 5,
   "metadata": {},
   "outputs": [
    {
     "name": "stdout",
     "output_type": "stream",
     "text": [
      "리스트에 항목이 있습니다.\n",
      "False\n",
      "False\n",
      "False\n",
      "False\n"
     ]
    }
   ],
   "source": [
    "items = [1, 2, 3]\n",
    "if items:  # truthy 로 평가가 되는 것\n",
    "    print(\"리스트에 항목이 있습니다.\")\n",
    "else:\n",
    "    print(\"리스트에 항목이 없없습니다.\")\n",
    "# 이 코드에서 items 리스트가 비어있지 않기 때문에, truthy로 평가되었다.\n",
    "# 빈 컨테이너를 체크한 것 ! \n",
    "# if len(items)> 0: VS if items 로 하는게 좀 더 파이써닉 하지 않나? \n",
    "# truthy / falsy 여부 확인하기\n",
    "# bool() 내장함수로 할 수 있다. \n",
    "print(bool([]))\n",
    "print(bool(set()))\n",
    "print(bool(\"\"))\n",
    "print(bool(0))\n"
   ]
  },
  {
   "cell_type": "code",
   "execution_count": 9,
   "metadata": {},
   "outputs": [
    {
     "name": "stdout",
     "output_type": "stream",
     "text": [
      "1\n",
      "[]\n",
      "Guest\n"
     ]
    }
   ],
   "source": [
    "# Fasly/ truthy 와 단축 평가의 실제 활용처\n",
    "\n",
    "# 리스트의 첫 번째 요소가 존재하는지 확인\n",
    "my_list = [1, 2, 3]\n",
    "first_item = my_list and my_list[0]\n",
    "print(first_item)  # 1\n",
    "\n",
    "empty_list = []\n",
    "first_item = empty_list and empty_list[0] # 기본값을 설정하겠다.\n",
    "print(first_item) \n",
    "\n",
    "name = \"\" or \"Guest\"\n",
    "print(name) # "
   ]
  }
 ],
 "metadata": {
  "kernelspec": {
   "display_name": "Python 3",
   "language": "python",
   "name": "python3"
  },
  "language_info": {
   "codemirror_mode": {
    "name": "ipython",
    "version": 3
   },
   "file_extension": ".py",
   "mimetype": "text/x-python",
   "name": "python",
   "nbconvert_exporter": "python",
   "pygments_lexer": "ipython3",
   "version": "3.9.13"
  }
 },
 "nbformat": 4,
 "nbformat_minor": 2
}
