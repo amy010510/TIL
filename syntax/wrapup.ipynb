{
 "cells": [
  {
   "cell_type": "code",
   "execution_count": 6,
   "metadata": {},
   "outputs": [
    {
     "name": "stdout",
     "output_type": "stream",
     "text": [
      "5\n",
      "(1, 2, 3, 4, 5, 6)\n",
      "21\n",
      "name: isaac\n",
      "age: 20\n"
     ]
    }
   ],
   "source": [
    "# 매개변수와 인자\n",
    "def add(x, y=1):  #함수의 정의 x,y 매개변수\n",
    "    \"\"\"\n",
    "    param: x와 y를 받는 함수, y는 기본값으로 1을 갖는다\n",
    "    return: x와 y의 합을 반환한다.\n",
    "    \"\"\"\n",
    "    return x + y\n",
    "\n",
    "# 호출\n",
    "result = add (1,4)  # 5  #1과 4는 인자\n",
    "print(result)\n",
    "\n",
    "# 위치 인자\n",
    "result = add(1, 4)\n",
    "# 키워드 인자\n",
    "result = add(x=1, y=4)\n",
    "# 함수 기본값인자\n",
    "# 인자 값이 넘어 오지 않을때.\n",
    "result = add(x=1)\n",
    "\n",
    "# 가변 인자 함수 *\n",
    "# 임의의 개수의 위치인자를 튜플로 받는다\n",
    "def sum_all(*numbers):\n",
    "    print(numbers) \n",
    "    return sum(numbers)\n",
    "\n",
    "print(sum_all(1,2,3,4,5,6))\n",
    "\n",
    "# 가변 키워드 인자 **\n",
    "# 임의의 개수 키워드 인자를 딕셔너리로 받아\n",
    "def print_info(**info):\n",
    "    for key, value in info.items():\n",
    "        print(f'{key}: {value}')\n",
    "\n",
    "print_info(name= 'isaac', age= 20) #키워드인자"
   ]
  },
  {
   "cell_type": "markdown",
   "metadata": {},
   "source": [
    "반복문 for\n",
    "1. for문을 돌 대상을 선정\n",
    "    - 대상 iterable?\n",
    "2. for i in []\n",
    "\n",
    "while [조건]:  #True 나 i==0 일때까지"
   ]
  },
  {
   "cell_type": "code",
   "execution_count": 7,
   "metadata": {},
   "outputs": [
    {
     "ename": "SyntaxError",
     "evalue": "EOF while scanning triple-quoted string literal (3936144542.py, line 5)",
     "output_type": "error",
     "traceback": [
      "\u001b[1;36m  Cell \u001b[1;32mIn[7], line 5\u001b[1;36m\u001b[0m\n\u001b[1;33m    \u001b[0m\n\u001b[1;37m    ^\u001b[0m\n\u001b[1;31mSyntaxError\u001b[0m\u001b[1;31m:\u001b[0m EOF while scanning triple-quoted string literal\n"
     ]
    }
   ],
   "source": [
    "# 재귀함수\n",
    "def recur_func(n):  # 5 4 3 2 1\n",
    "    \"\"\"\n",
    "    n == 0이면 종료 <- 얘가 기저조건\n",
    "    \"\"\"\n",
    "    if n == 0:\n",
    "        return #함수종료 #return None과 동일\n",
    "    print(n,end=' ')\n",
    "    recur_func(n-1)\n",
    "\n",
    "    print(n, end=' ') # for확인 #바로 직전에 호출된 재귀 함수가 종료되면 (1을 출력하고 끝남)\n",
    "    # 직전함수로 돌아와서 실행됨 (1 2 3 4 5)\n",
    "    # 반복문처럼 생각 x\n",
    "\n",
    "recur_func(5)\n"
   ]
  }
 ],
 "metadata": {
  "kernelspec": {
   "display_name": "Python 3",
   "language": "python",
   "name": "python3"
  },
  "language_info": {
   "codemirror_mode": {
    "name": "ipython",
    "version": 3
   },
   "file_extension": ".py",
   "mimetype": "text/x-python",
   "name": "python",
   "nbconvert_exporter": "python",
   "pygments_lexer": "ipython3",
   "version": "3.9.13"
  }
 },
 "nbformat": 4,
 "nbformat_minor": 2
}
